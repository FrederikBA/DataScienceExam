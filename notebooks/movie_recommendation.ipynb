{
 "cells": [
  {
   "cell_type": "code",
   "execution_count": 1,
   "id": "b406135f",
   "metadata": {},
   "outputs": [],
   "source": [
    "# Import TensorFlow and hub\n",
    "import tensorflow as tf\n",
    "import tensorflow_hub as hub\n",
    "\n",
    "# Plotting\n",
    "import matplotlib.pyplot as plt\n",
    "\n",
    "# some important packages\n",
    "import os\n",
    "import re\n",
    "import numpy as np\n",
    "import pandas as pd\n",
    "\n",
    "# scikit-learn\n",
    "from sklearn.metrics.pairwise import cosine_similarity\n",
    "from sklearn.neighbors import NearestNeighbors\n",
    "from sklearn.decomposition import PCA"
   ]
  },
  {
   "cell_type": "code",
   "execution_count": 2,
   "id": "df5b6dec",
   "metadata": {},
   "outputs": [
    {
     "name": "stdout",
     "output_type": "stream",
     "text": [
      "Model Loaded\n"
     ]
    }
   ],
   "source": [
    "model_url = \"https://tfhub.dev/google/universal-sentence-encoder/4\"\n",
    "model = hub.load(model_url)\n",
    "print('Model Loaded')"
   ]
  },
  {
   "cell_type": "code",
   "execution_count": 3,
   "id": "511a7ca9",
   "metadata": {},
   "outputs": [],
   "source": [
    "def embed(texts):\n",
    "    return model(texts)"
   ]
  },
  {
   "cell_type": "code",
   "execution_count": 4,
   "id": "7352a367",
   "metadata": {},
   "outputs": [
    {
     "data": {
      "text/plain": [
       "<tf.Tensor: shape=(1, 512), dtype=float32, numpy=\n",
       "array([[ 0.00549278,  0.02886904, -0.02628895,  0.04502157, -0.01233331,\n",
       "         0.02568332, -0.00071878, -0.05447305,  0.04221926, -0.01913715,\n",
       "         0.02710012, -0.04328045, -0.02486853,  0.01359517,  0.00482796,\n",
       "        -0.05379636,  0.01630707,  0.02139913,  0.02644027, -0.02320251,\n",
       "         0.06569215, -0.10137626, -0.01691998,  0.02492479,  0.02406816,\n",
       "        -0.03139618, -0.03265482, -0.05174924, -0.0727149 ,  0.10145196,\n",
       "         0.03868444,  0.04380692, -0.02071746, -0.01873293, -0.03071439,\n",
       "         0.01825574,  0.03627157,  0.01321462,  0.0094349 , -0.03006624,\n",
       "         0.06655684,  0.01529935, -0.10101432, -0.00671949, -0.0157864 ,\n",
       "         0.04991005,  0.02548565,  0.05454974, -0.0165857 ,  0.05624886,\n",
       "         0.03834501, -0.08679943, -0.06096424, -0.01161774,  0.01997449,\n",
       "         0.04206812, -0.04119829, -0.00768586, -0.05101155,  0.01210043,\n",
       "        -0.01673213, -0.01382073,  0.00373699,  0.04911599, -0.03481684,\n",
       "         0.0570432 ,  0.01964702,  0.01331997,  0.0639983 , -0.0600764 ,\n",
       "         0.04977039,  0.05969533, -0.00512163,  0.00345537,  0.02347388,\n",
       "         0.0165788 ,  0.00882616, -0.05840249,  0.01081954,  0.09112442,\n",
       "        -0.04244043,  0.0237871 , -0.00078289,  0.02853671,  0.00093319,\n",
       "         0.04208673,  0.03671128, -0.04355021, -0.09307761, -0.00054823,\n",
       "        -0.01398351, -0.02585264,  0.00277772,  0.03043684,  0.10135814,\n",
       "         0.00514983,  0.00857206, -0.05206996,  0.09978893,  0.09052151,\n",
       "         0.00727674, -0.00806309,  0.01509867, -0.00024918,  0.00344265,\n",
       "        -0.01363514, -0.02850653, -0.02132623,  0.0064455 ,  0.00035648,\n",
       "         0.04428069,  0.04263914,  0.06019289, -0.01540298, -0.05650955,\n",
       "         0.06915259, -0.02070851, -0.0530486 ,  0.02065352,  0.02122759,\n",
       "        -0.01767538, -0.00901928, -0.02521261, -0.02947342, -0.00788984,\n",
       "        -0.08103788,  0.00427623, -0.10145587,  0.06386338,  0.09853414,\n",
       "        -0.00386893, -0.02636256,  0.03109704, -0.06319857,  0.02323464,\n",
       "        -0.08689979, -0.02764196, -0.03676214, -0.09642366, -0.00811525,\n",
       "         0.02796138, -0.04216223,  0.02821674,  0.07147539,  0.02029409,\n",
       "         0.05213043,  0.00547966,  0.01005903, -0.00968193,  0.00038218,\n",
       "         0.02508673,  0.00367785, -0.08550173, -0.03470821,  0.03182831,\n",
       "         0.07189631,  0.07062657, -0.04086525,  0.0668714 , -0.01880954,\n",
       "        -0.05949424,  0.0276128 ,  0.07921506,  0.07259229, -0.03060989,\n",
       "         0.02377022, -0.07497517, -0.03893215,  0.03242346,  0.00316037,\n",
       "         0.01624399,  0.06015551, -0.02738688, -0.0372602 , -0.02249829,\n",
       "         0.05164829, -0.04710846,  0.04515139,  0.01647222, -0.07968112,\n",
       "        -0.02482688,  0.07581185, -0.04040242, -0.02527555,  0.03866641,\n",
       "         0.02881842,  0.03863061,  0.03125423,  0.09795642,  0.05011389,\n",
       "        -0.04737549, -0.00737251,  0.01652104, -0.06835041,  0.01118032,\n",
       "        -0.04373854,  0.01260422, -0.0024277 , -0.00058694, -0.02478767,\n",
       "         0.02563103, -0.0530264 , -0.01710279,  0.00217772,  0.06206434,\n",
       "         0.00491737,  0.0612098 ,  0.01655244, -0.03342636, -0.00202415,\n",
       "        -0.07622245,  0.00806767, -0.08526599, -0.02341259,  0.08972816,\n",
       "        -0.02402739, -0.0162587 , -0.04681421,  0.02810653, -0.03114546,\n",
       "         0.0148986 , -0.05796926, -0.04334744,  0.0478856 , -0.09521476,\n",
       "         0.05614292, -0.09003564, -0.00125589,  0.0482594 , -0.01603316,\n",
       "         0.00241586, -0.0070267 ,  0.02820105,  0.09956266, -0.00557051,\n",
       "        -0.00392299,  0.07811754,  0.04828189,  0.01216742,  0.02649803,\n",
       "         0.02752789,  0.02974232,  0.073373  ,  0.00549875,  0.02175409,\n",
       "         0.03527225, -0.02245825, -0.03951044, -0.01718158, -0.00958714,\n",
       "         0.01648904,  0.02756677, -0.04291252,  0.01616792,  0.04632331,\n",
       "         0.0365464 ,  0.00651559, -0.03667973,  0.05807525, -0.01841666,\n",
       "        -0.0026697 ,  0.00346312, -0.02939767, -0.01507322,  0.01409322,\n",
       "        -0.0059119 ,  0.03839973,  0.04513567,  0.01936358,  0.02554665,\n",
       "         0.07666096,  0.10104094,  0.00929441,  0.0048254 ,  0.02027611,\n",
       "         0.00240533,  0.02083166, -0.03676214,  0.10099945,  0.03398842,\n",
       "         0.05451925,  0.01629777,  0.00153097,  0.04745294, -0.02842083,\n",
       "        -0.10145631, -0.03567201,  0.04948912,  0.05039084, -0.03494554,\n",
       "        -0.00588499,  0.09687837, -0.05840483,  0.01675772,  0.02724424,\n",
       "         0.0266324 ,  0.03828524,  0.03009386,  0.01220314,  0.06866228,\n",
       "         0.02131048, -0.02601963, -0.02164593, -0.05966081,  0.02477538,\n",
       "        -0.03523963,  0.03393567,  0.00168255, -0.00818858,  0.06598676,\n",
       "        -0.01477986, -0.00547288,  0.02505231,  0.0064873 ,  0.02565608,\n",
       "         0.02956757, -0.03080941, -0.03890033, -0.03340892,  0.00147071,\n",
       "        -0.01925301,  0.03625213,  0.06860746, -0.04845804,  0.01100691,\n",
       "        -0.00560865,  0.02295659, -0.00988499, -0.0304068 ,  0.01045824,\n",
       "         0.00439852,  0.00435427, -0.01468392, -0.02332353, -0.09393281,\n",
       "        -0.04051306, -0.02504383, -0.02483059, -0.00718715,  0.02460037,\n",
       "         0.09772791,  0.04025537, -0.03151967,  0.00815452,  0.02152841,\n",
       "         0.02150849, -0.05112505, -0.10104636, -0.04361084, -0.03795958,\n",
       "        -0.01316943, -0.0034494 , -0.04037201,  0.01797771, -0.01757184,\n",
       "        -0.04222957, -0.0975797 , -0.00327324,  0.03685581,  0.05532565,\n",
       "        -0.01406302, -0.04614403,  0.09916461,  0.03399036,  0.03972924,\n",
       "         0.01713762, -0.09407923,  0.04282647, -0.01115872,  0.02056502,\n",
       "        -0.02484544,  0.02506446,  0.00555093, -0.00292716,  0.03787243,\n",
       "        -0.0349425 ,  0.06777944,  0.02706831,  0.03850489, -0.05578919,\n",
       "        -0.03302136,  0.00301089,  0.02818891,  0.07666627, -0.08516956,\n",
       "        -0.03537202, -0.06837835, -0.00548802, -0.01908863, -0.00284603,\n",
       "         0.08247842, -0.01801231, -0.00120915,  0.02134809,  0.02816014,\n",
       "        -0.02182807, -0.07698049,  0.04191507, -0.01772332, -0.10040033,\n",
       "         0.00692177, -0.0279631 , -0.0445582 , -0.06157222,  0.10145622,\n",
       "        -0.00963382,  0.10096458,  0.00471773,  0.06617887,  0.03885557,\n",
       "        -0.00787652,  0.02685571, -0.03091919, -0.01056328,  0.10033692,\n",
       "        -0.03595692, -0.01495693,  0.05245735, -0.0397307 ,  0.04209253,\n",
       "         0.018536  ,  0.0231187 , -0.0569055 , -0.03293652,  0.02865035,\n",
       "         0.06984379, -0.02771938,  0.05746055, -0.01802601,  0.10100625,\n",
       "         0.00823107, -0.00218664, -0.01977455, -0.02139798, -0.02073987,\n",
       "        -0.07589929, -0.02751527,  0.01627712, -0.01539142, -0.06262938,\n",
       "         0.01311475, -0.09933811, -0.04334499, -0.08061335,  0.00917237,\n",
       "        -0.02972654, -0.02589019, -0.06180017, -0.03558387,  0.01895514,\n",
       "        -0.01997395, -0.00617033,  0.07606238,  0.04640508,  0.02881571,\n",
       "        -0.04640505, -0.01369575, -0.06184129,  0.04200371,  0.00202799,\n",
       "        -0.02030321,  0.04844751,  0.01807224,  0.07844786, -0.03313062,\n",
       "         0.05824582,  0.00447845, -0.01961144, -0.00045637,  0.03107095,\n",
       "        -0.00321139,  0.01680852,  0.06138908,  0.0051797 , -0.02396526,\n",
       "         0.02933807, -0.05025388, -0.04185718,  0.09955994,  0.06448301,\n",
       "         0.03606918, -0.03115355,  0.01786363,  0.01037989,  0.06728493,\n",
       "        -0.0651937 ,  0.00495936,  0.10143957, -0.01632893, -0.04359462,\n",
       "        -0.02721568, -0.01624428,  0.03745246, -0.02960904,  0.04793229,\n",
       "        -0.01649585, -0.00442801,  0.00562302, -0.01870943, -0.05266126,\n",
       "        -0.0273157 , -0.10080238,  0.02205936,  0.02533066, -0.04713245,\n",
       "         0.01325951, -0.01660338,  0.00863711,  0.06462494, -0.052168  ,\n",
       "         0.10145401, -0.00225028]], dtype=float32)>"
      ]
     },
     "execution_count": 4,
     "metadata": {},
     "output_type": "execute_result"
    }
   ],
   "source": [
    "embed(['This movie was great!'])"
   ]
  },
  {
   "cell_type": "code",
   "execution_count": 5,
   "id": "4f66ddfb",
   "metadata": {},
   "outputs": [
    {
     "data": {
      "text/html": [
       "<div>\n",
       "<style scoped>\n",
       "    .dataframe tbody tr th:only-of-type {\n",
       "        vertical-align: middle;\n",
       "    }\n",
       "\n",
       "    .dataframe tbody tr th {\n",
       "        vertical-align: top;\n",
       "    }\n",
       "\n",
       "    .dataframe thead th {\n",
       "        text-align: right;\n",
       "    }\n",
       "</style>\n",
       "<table border=\"1\" class=\"dataframe\">\n",
       "  <thead>\n",
       "    <tr style=\"text-align: right;\">\n",
       "      <th></th>\n",
       "      <th>id</th>\n",
       "      <th>title</th>\n",
       "      <th>release year</th>\n",
       "      <th>certificate</th>\n",
       "      <th>runtime</th>\n",
       "      <th>genre</th>\n",
       "      <th>rating</th>\n",
       "      <th>summary</th>\n",
       "      <th>directors</th>\n",
       "      <th>actors</th>\n",
       "      <th>lifetime gross in $</th>\n",
       "    </tr>\n",
       "  </thead>\n",
       "  <tbody>\n",
       "    <tr>\n",
       "      <th>0</th>\n",
       "      <td>tt0499549</td>\n",
       "      <td>Avatar</td>\n",
       "      <td>2009</td>\n",
       "      <td>PG-13</td>\n",
       "      <td>162</td>\n",
       "      <td>Action, Adventure, Fantasy</td>\n",
       "      <td>7.9</td>\n",
       "      <td>A paraplegic Marine dispatched to the moon Pan...</td>\n",
       "      <td>James Cameron</td>\n",
       "      <td>Sam Worthington, Zoe Saldana, Sigourney Weaver...</td>\n",
       "      <td>2922917914</td>\n",
       "    </tr>\n",
       "    <tr>\n",
       "      <th>1</th>\n",
       "      <td>tt4154796</td>\n",
       "      <td>Avengers: Endgame</td>\n",
       "      <td>2019</td>\n",
       "      <td>PG-13</td>\n",
       "      <td>181</td>\n",
       "      <td>Action, Adventure, Drama</td>\n",
       "      <td>8.4</td>\n",
       "      <td>After the devastating events of Avengers: Infi...</td>\n",
       "      <td>Anthony Russo, Joe Russo</td>\n",
       "      <td>Robert Downey Jr., Chris Evans, Mark Ruffalo, ...</td>\n",
       "      <td>2797501328</td>\n",
       "    </tr>\n",
       "    <tr>\n",
       "      <th>2</th>\n",
       "      <td>tt0120338</td>\n",
       "      <td>Titanic</td>\n",
       "      <td>1997</td>\n",
       "      <td>PG-13</td>\n",
       "      <td>194</td>\n",
       "      <td>Drama, Romance</td>\n",
       "      <td>7.9</td>\n",
       "      <td>A seventeen-year-old aristocrat falls in love ...</td>\n",
       "      <td>James Cameron</td>\n",
       "      <td>Leonardo DiCaprio, Kate Winslet, Billy Zane, K...</td>\n",
       "      <td>2201647264</td>\n",
       "    </tr>\n",
       "    <tr>\n",
       "      <th>3</th>\n",
       "      <td>tt2488496</td>\n",
       "      <td>Star Wars: Episode VII - The Force Awakens</td>\n",
       "      <td>2015</td>\n",
       "      <td>PG-13</td>\n",
       "      <td>138</td>\n",
       "      <td>Action, Adventure, Sci-Fi</td>\n",
       "      <td>7.8</td>\n",
       "      <td>As a new threat to the galaxy rises, Rey, a de...</td>\n",
       "      <td>J.J. Abrams</td>\n",
       "      <td>Daisy Ridley, John Boyega, Oscar Isaac, Domhna...</td>\n",
       "      <td>2069521700</td>\n",
       "    </tr>\n",
       "    <tr>\n",
       "      <th>4</th>\n",
       "      <td>tt4154756</td>\n",
       "      <td>Avengers: Infinity War</td>\n",
       "      <td>2018</td>\n",
       "      <td>PG-13</td>\n",
       "      <td>149</td>\n",
       "      <td>Action, Adventure, Sci-Fi</td>\n",
       "      <td>8.4</td>\n",
       "      <td>The Avengers and their allies must be willing ...</td>\n",
       "      <td>Anthony Russo, Joe Russo</td>\n",
       "      <td>Robert Downey Jr., Chris Hemsworth, Mark Ruffa...</td>\n",
       "      <td>2048359754</td>\n",
       "    </tr>\n",
       "  </tbody>\n",
       "</table>\n",
       "</div>"
      ],
      "text/plain": [
       "          id                                       title  release year  \\\n",
       "0  tt0499549                                      Avatar          2009   \n",
       "1  tt4154796                           Avengers: Endgame          2019   \n",
       "2  tt0120338                                     Titanic          1997   \n",
       "3  tt2488496  Star Wars: Episode VII - The Force Awakens          2015   \n",
       "4  tt4154756                      Avengers: Infinity War          2018   \n",
       "\n",
       "  certificate  runtime                       genre  rating  \\\n",
       "0       PG-13      162  Action, Adventure, Fantasy     7.9   \n",
       "1       PG-13      181    Action, Adventure, Drama     8.4   \n",
       "2       PG-13      194              Drama, Romance     7.9   \n",
       "3       PG-13      138   Action, Adventure, Sci-Fi     7.8   \n",
       "4       PG-13      149   Action, Adventure, Sci-Fi     8.4   \n",
       "\n",
       "                                             summary  \\\n",
       "0  A paraplegic Marine dispatched to the moon Pan...   \n",
       "1  After the devastating events of Avengers: Infi...   \n",
       "2  A seventeen-year-old aristocrat falls in love ...   \n",
       "3  As a new threat to the galaxy rises, Rey, a de...   \n",
       "4  The Avengers and their allies must be willing ...   \n",
       "\n",
       "                  directors  \\\n",
       "0             James Cameron   \n",
       "1  Anthony Russo, Joe Russo   \n",
       "2             James Cameron   \n",
       "3               J.J. Abrams   \n",
       "4  Anthony Russo, Joe Russo   \n",
       "\n",
       "                                              actors  lifetime gross in $  \n",
       "0  Sam Worthington, Zoe Saldana, Sigourney Weaver...           2922917914  \n",
       "1  Robert Downey Jr., Chris Evans, Mark Ruffalo, ...           2797501328  \n",
       "2  Leonardo DiCaprio, Kate Winslet, Billy Zane, K...           2201647264  \n",
       "3  Daisy Ridley, John Boyega, Oscar Isaac, Domhna...           2069521700  \n",
       "4  Robert Downey Jr., Chris Hemsworth, Mark Ruffa...           2048359754  "
      ]
     },
     "execution_count": 5,
     "metadata": {},
     "output_type": "execute_result"
    }
   ],
   "source": [
    "df = pd.read_csv(\"movies_cleaned.csv\")\n",
    "df.head()"
   ]
  },
  {
   "cell_type": "code",
   "execution_count": 6,
   "id": "e56f9968",
   "metadata": {},
   "outputs": [
    {
     "data": {
      "text/html": [
       "<div>\n",
       "<style scoped>\n",
       "    .dataframe tbody tr th:only-of-type {\n",
       "        vertical-align: middle;\n",
       "    }\n",
       "\n",
       "    .dataframe tbody tr th {\n",
       "        vertical-align: top;\n",
       "    }\n",
       "\n",
       "    .dataframe thead th {\n",
       "        text-align: right;\n",
       "    }\n",
       "</style>\n",
       "<table border=\"1\" class=\"dataframe\">\n",
       "  <thead>\n",
       "    <tr style=\"text-align: right;\">\n",
       "      <th></th>\n",
       "      <th>title</th>\n",
       "      <th>genre</th>\n",
       "      <th>summary</th>\n",
       "      <th>directors</th>\n",
       "      <th>actors</th>\n",
       "    </tr>\n",
       "  </thead>\n",
       "  <tbody>\n",
       "    <tr>\n",
       "      <th>0</th>\n",
       "      <td>Avatar</td>\n",
       "      <td>Action, Adventure, Fantasy</td>\n",
       "      <td>A paraplegic Marine dispatched to the moon Pan...</td>\n",
       "      <td>James Cameron</td>\n",
       "      <td>Sam Worthington, Zoe Saldana, Sigourney Weaver...</td>\n",
       "    </tr>\n",
       "    <tr>\n",
       "      <th>1</th>\n",
       "      <td>Avengers: Endgame</td>\n",
       "      <td>Action, Adventure, Drama</td>\n",
       "      <td>After the devastating events of Avengers: Infi...</td>\n",
       "      <td>Anthony Russo, Joe Russo</td>\n",
       "      <td>Robert Downey Jr., Chris Evans, Mark Ruffalo, ...</td>\n",
       "    </tr>\n",
       "    <tr>\n",
       "      <th>2</th>\n",
       "      <td>Titanic</td>\n",
       "      <td>Drama, Romance</td>\n",
       "      <td>A seventeen-year-old aristocrat falls in love ...</td>\n",
       "      <td>James Cameron</td>\n",
       "      <td>Leonardo DiCaprio, Kate Winslet, Billy Zane, K...</td>\n",
       "    </tr>\n",
       "    <tr>\n",
       "      <th>3</th>\n",
       "      <td>Star Wars: Episode VII - The Force Awakens</td>\n",
       "      <td>Action, Adventure, Sci-Fi</td>\n",
       "      <td>As a new threat to the galaxy rises, Rey, a de...</td>\n",
       "      <td>J.J. Abrams</td>\n",
       "      <td>Daisy Ridley, John Boyega, Oscar Isaac, Domhna...</td>\n",
       "    </tr>\n",
       "    <tr>\n",
       "      <th>4</th>\n",
       "      <td>Avengers: Infinity War</td>\n",
       "      <td>Action, Adventure, Sci-Fi</td>\n",
       "      <td>The Avengers and their allies must be willing ...</td>\n",
       "      <td>Anthony Russo, Joe Russo</td>\n",
       "      <td>Robert Downey Jr., Chris Hemsworth, Mark Ruffa...</td>\n",
       "    </tr>\n",
       "  </tbody>\n",
       "</table>\n",
       "</div>"
      ],
      "text/plain": [
       "                                        title                       genre  \\\n",
       "0                                      Avatar  Action, Adventure, Fantasy   \n",
       "1                           Avengers: Endgame    Action, Adventure, Drama   \n",
       "2                                     Titanic              Drama, Romance   \n",
       "3  Star Wars: Episode VII - The Force Awakens   Action, Adventure, Sci-Fi   \n",
       "4                      Avengers: Infinity War   Action, Adventure, Sci-Fi   \n",
       "\n",
       "                                             summary  \\\n",
       "0  A paraplegic Marine dispatched to the moon Pan...   \n",
       "1  After the devastating events of Avengers: Infi...   \n",
       "2  A seventeen-year-old aristocrat falls in love ...   \n",
       "3  As a new threat to the galaxy rises, Rey, a de...   \n",
       "4  The Avengers and their allies must be willing ...   \n",
       "\n",
       "                  directors                                             actors  \n",
       "0             James Cameron  Sam Worthington, Zoe Saldana, Sigourney Weaver...  \n",
       "1  Anthony Russo, Joe Russo  Robert Downey Jr., Chris Evans, Mark Ruffalo, ...  \n",
       "2             James Cameron  Leonardo DiCaprio, Kate Winslet, Billy Zane, K...  \n",
       "3               J.J. Abrams  Daisy Ridley, John Boyega, Oscar Isaac, Domhna...  \n",
       "4  Anthony Russo, Joe Russo  Robert Downey Jr., Chris Hemsworth, Mark Ruffa...  "
      ]
     },
     "execution_count": 6,
     "metadata": {},
     "output_type": "execute_result"
    }
   ],
   "source": [
    "df = df[[\"title\", \"genre\", \"summary\", \"directors\", \"actors\"]]\n",
    "df.head()"
   ]
  },
  {
   "cell_type": "code",
   "execution_count": 7,
   "id": "f553ef4d",
   "metadata": {},
   "outputs": [],
   "source": [
    "summaries = list(df['summary'])"
   ]
  },
  {
   "cell_type": "code",
   "execution_count": 8,
   "id": "df3323e1",
   "metadata": {},
   "outputs": [
    {
     "data": {
      "text/plain": [
       "['A paraplegic Marine dispatched to the moon Pandora on a unique mission becomes torn between following his orders and protecting the world he feels is his home.',\n",
       " \"After the devastating events of Avengers: Infinity War (2018), the universe is in ruins. With the help of remaining allies, the Avengers assemble once more in order to reverse Thanos' actions and restore balance to the universe.\",\n",
       " 'A seventeen-year-old aristocrat falls in love with a kind but poor artist aboard the luxurious, ill-fated R.M.S. Titanic.',\n",
       " 'As a new threat to the galaxy rises, Rey, a desert scavenger, and Finn, an ex-stormtrooper, must join Han Solo and Chewbacca to search for the one hope of restoring peace.',\n",
       " 'The Avengers and their allies must be willing to sacrifice all in an attempt to defeat the powerful Thanos before his blitz of devastation and ruin puts an end to the universe.']"
      ]
     },
     "execution_count": 8,
     "metadata": {},
     "output_type": "execute_result"
    }
   ],
   "source": [
    "summaries[:5]"
   ]
  },
  {
   "cell_type": "code",
   "execution_count": 9,
   "id": "8b6c90bc",
   "metadata": {},
   "outputs": [
    {
     "name": "stdout",
     "output_type": "stream",
     "text": [
      "The embedding shape is: (1000, 512)\n"
     ]
    }
   ],
   "source": [
    "embeddings = embed(summaries)\n",
    "print('The embedding shape is:', embeddings.shape)"
   ]
  },
  {
   "cell_type": "code",
   "execution_count": 10,
   "id": "babf49a5",
   "metadata": {},
   "outputs": [],
   "source": [
    "pca = PCA(n_components=2)\n",
    "emb_2d = pca.fit_transform(embeddings)"
   ]
  },
  {
   "cell_type": "code",
   "execution_count": 11,
   "id": "dbebe788",
   "metadata": {},
   "outputs": [
    {
     "data": {
      "image/png": "[encoded data removed]",
      "text/plain": [
       "<Figure size 1100x600 with 1 Axes>"
      ]
     },
     "metadata": {},
     "output_type": "display_data"
    }
   ],
   "source": [
    "plt.figure(figsize=(11, 6))\n",
    "plt.title('Embedding space')\n",
    "plt.scatter(emb_2d[:, 0], emb_2d[:, 1])\n",
    "plt.show()"
   ]
  },
  {
   "cell_type": "code",
   "execution_count": 12,
   "id": "26831422",
   "metadata": {},
   "outputs": [
    {
     "data": {
      "text/html": [
       "<style>#sk-container-id-1 {color: black;background-color: white;}#sk-container-id-1 pre{padding: 0;}#sk-container-id-1 div.sk-toggleable {background-color: white;}#sk-container-id-1 label.sk-toggleable__label {cursor: pointer;display: block;width: 100%;margin-bottom: 0;padding: 0.3em;box-sizing: border-box;text-align: center;}#sk-container-id-1 label.sk-toggleable__label-arrow:before {content: \"▸\";float: left;margin-right: 0.25em;color: #696969;}#sk-container-id-1 label.sk-toggleable__label-arrow:hover:before {color: black;}#sk-container-id-1 div.sk-estimator:hover label.sk-toggleable__label-arrow:before {color: black;}#sk-container-id-1 div.sk-toggleable__content {max-height: 0;max-width: 0;overflow: hidden;text-align: left;background-color: #f0f8ff;}#sk-container-id-1 div.sk-toggleable__content pre {margin: 0.2em;color: black;border-radius: 0.25em;background-color: #f0f8ff;}#sk-container-id-1 input.sk-toggleable__control:checked~div.sk-toggleable__content {max-height: 200px;max-width: 100%;overflow: auto;}#sk-container-id-1 input.sk-toggleable__control:checked~label.sk-toggleable__label-arrow:before {content: \"▾\";}#sk-container-id-1 div.sk-estimator input.sk-toggleable__control:checked~label.sk-toggleable__label {background-color: #d4ebff;}#sk-container-id-1 div.sk-label input.sk-toggleable__control:checked~label.sk-toggleable__label {background-color: #d4ebff;}#sk-container-id-1 input.sk-hidden--visually {border: 0;clip: rect(1px 1px 1px 1px);clip: rect(1px, 1px, 1px, 1px);height: 1px;margin: -1px;overflow: hidden;padding: 0;position: absolute;width: 1px;}#sk-container-id-1 div.sk-estimator {font-family: monospace;background-color: #f0f8ff;border: 1px dotted black;border-radius: 0.25em;box-sizing: border-box;margin-bottom: 0.5em;}#sk-container-id-1 div.sk-estimator:hover {background-color: #d4ebff;}#sk-container-id-1 div.sk-parallel-item::after {content: \"\";width: 100%;border-bottom: 1px solid gray;flex-grow: 1;}#sk-container-id-1 div.sk-label:hover label.sk-toggleable__label {background-color: #d4ebff;}#sk-container-id-1 div.sk-serial::before {content: \"\";position: absolute;border-left: 1px solid gray;box-sizing: border-box;top: 0;bottom: 0;left: 50%;z-index: 0;}#sk-container-id-1 div.sk-serial {display: flex;flex-direction: column;align-items: center;background-color: white;padding-right: 0.2em;padding-left: 0.2em;position: relative;}#sk-container-id-1 div.sk-item {position: relative;z-index: 1;}#sk-container-id-1 div.sk-parallel {display: flex;align-items: stretch;justify-content: center;background-color: white;position: relative;}#sk-container-id-1 div.sk-item::before, #sk-container-id-1 div.sk-parallel-item::before {content: \"\";position: absolute;border-left: 1px solid gray;box-sizing: border-box;top: 0;bottom: 0;left: 50%;z-index: -1;}#sk-container-id-1 div.sk-parallel-item {display: flex;flex-direction: column;z-index: 1;position: relative;background-color: white;}#sk-container-id-1 div.sk-parallel-item:first-child::after {align-self: flex-end;width: 50%;}#sk-container-id-1 div.sk-parallel-item:last-child::after {align-self: flex-start;width: 50%;}#sk-container-id-1 div.sk-parallel-item:only-child::after {width: 0;}#sk-container-id-1 div.sk-dashed-wrapped {border: 1px dashed gray;margin: 0 0.4em 0.5em 0.4em;box-sizing: border-box;padding-bottom: 0.4em;background-color: white;}#sk-container-id-1 div.sk-label label {font-family: monospace;font-weight: bold;display: inline-block;line-height: 1.2em;}#sk-container-id-1 div.sk-label-container {text-align: center;}#sk-container-id-1 div.sk-container {/* jupyter's `normalize.less` sets `[hidden] { display: none; }` but bootstrap.min.css set `[hidden] { display: none !important; }` so we also need the `!important` here to be able to override the default hidden behavior on the sphinx rendered scikit-learn.org. See: https://github.com/scikit-learn/scikit-learn/issues/21755 */display: inline-block !important;position: relative;}#sk-container-id-1 div.sk-text-repr-fallback {display: none;}</style><div id=\"sk-container-id-1\" class=\"sk-top-container\"><div class=\"sk-text-repr-fallback\"><pre>NearestNeighbors(n_neighbors=10)</pre><b>In a Jupyter environment, please rerun this cell to show the HTML representation or trust the notebook. <br />On GitHub, the HTML representation is unable to render, please try loading this page with nbviewer.org.</b></div><div class=\"sk-container\" hidden><div class=\"sk-item\"><div class=\"sk-estimator sk-toggleable\"><input class=\"sk-toggleable__control sk-hidden--visually\" id=\"sk-estimator-id-1\" type=\"checkbox\" checked><label for=\"sk-estimator-id-1\" class=\"sk-toggleable__label sk-toggleable__label-arrow\">NearestNeighbors</label><div class=\"sk-toggleable__content\"><pre>NearestNeighbors(n_neighbors=10)</pre></div></div></div></div></div>"
      ],
      "text/plain": [
       "NearestNeighbors(n_neighbors=10)"
      ]
     },
     "execution_count": 12,
     "metadata": {},
     "output_type": "execute_result"
    }
   ],
   "source": [
    "nn = NearestNeighbors(n_neighbors=10)\n",
    "nn.fit(embeddings)"
   ]
  },
  {
   "cell_type": "code",
   "execution_count": 15,
   "id": "31a81268",
   "metadata": {},
   "outputs": [],
   "source": [
    "def recommend(text):\n",
    "    emb = embed([text])\n",
    "    neighbors = nn.kneighbors(emb, return_distance=False)[0]\n",
    "    return df['title'].iloc[neighbors].tolist()"
   ]
  },
  {
   "cell_type": "code",
   "execution_count": 20,
   "id": "f385208f",
   "metadata": {},
   "outputs": [
    {
     "name": "stdout",
     "output_type": "stream",
     "text": [
      "Recommended Movies:\n"
     ]
    },
    {
     "data": {
      "text/plain": [
       "['Avengers: Endgame',\n",
       " 'Avengers: Infinity War',\n",
       " 'Thor: Ragnarok',\n",
       " 'Avengers: Age of Ultron',\n",
       " 'Spider-Man: Far from Home',\n",
       " 'The Avengers',\n",
       " 'Captain Marvel',\n",
       " 'Captain America: Civil War',\n",
       " 'Thor: The Dark World',\n",
       " 'Fantastic Four: Rise of the Silver Surfer']"
      ]
     },
     "execution_count": 20,
     "metadata": {},
     "output_type": "execute_result"
    }
   ],
   "source": [
    "print('Recommended Movies:')\n",
    "recommend(\"After the devastating events of Avengers: Infinity War (2018), the universe is in ruins. With the help of remaining allies, the Avengers assemble once more in order to reverse Thanos' actions and restore balance to the universe.\")"
   ]
  }
 ],
 "metadata": {
  "kernelspec": {
   "display_name": "Python 3 (ipykernel)",
   "language": "python",
   "name": "python3"
  },
  "language_info": {
   "codemirror_mode": {
    "name": "ipython",
    "version": 3
   },
   "file_extension": ".py",
   "mimetype": "text/x-python",
   "name": "python",
   "nbconvert_exporter": "python",
   "pygments_lexer": "ipython3",
   "version": "3.10.10"
  }
 },
 "nbformat": 4,
 "nbformat_minor": 5
}
